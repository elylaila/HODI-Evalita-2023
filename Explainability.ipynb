{
  "cells": [
    {
      "cell_type": "markdown",
      "metadata": {
        "id": "view-in-github",
        "colab_type": "text"
      },
      "source": [
        "<a href=\"https://colab.research.google.com/github/elylaila/seminario/blob/main/Explainability.ipynb\" target=\"_parent\"><img src=\"https://colab.research.google.com/assets/colab-badge.svg\" alt=\"Open In Colab\"/></a>"
      ]
    },
    {
      "cell_type": "markdown",
      "metadata": {
        "id": "BdDwMnW0b3RP"
      },
      "source": [
        "[![Open In Colab](https://colab.research.google.com/assets/colab-badge.svg)](https://colab.research.google.com/github/gsarti/lcl23-xnlm-lab/blob/main/notebooks/2_Attribution_Contrastive.ipynb)"
      ]
    },
    {
      "cell_type": "code",
      "execution_count": 1,
      "metadata": {
        "id": "HNTApUyob3RU"
      },
      "outputs": [],
      "source": [
        "%%capture\n",
        "# Run in Colab to install local packages\n",
        "%pip install ferret-xai bitsandbytes accelerate numpy==1.23.1\n",
        "%pip install git+https://github.com/huggingface/transformers.git\n",
        "# %pip install git+https://github.com/inseq-team/inseq.git"
      ]
    },
    {
      "cell_type": "code",
      "execution_count": 9,
      "metadata": {
        "id": "0DRnEfLPb3RW"
      },
      "outputs": [],
      "source": [
        "from transformers import AutoModelForSequenceClassification, AutoTokenizer, pipeline"
      ]
    },
    {
      "cell_type": "code",
      "source": [
        "from google.colab import drive\n",
        "drive.mount('/content/drive')"
      ],
      "metadata": {
        "id": "g4o8aRCCw9PY",
        "outputId": "b75ccc32-d4d8-41e6-b51a-e5a69e683220",
        "colab": {
          "base_uri": "https://localhost:8080/"
        }
      },
      "execution_count": 13,
      "outputs": [
        {
          "output_type": "stream",
          "name": "stdout",
          "text": [
            "Mounted at /content/drive\n"
          ]
        }
      ]
    },
    {
      "cell_type": "code",
      "source": [
        "path = \"/content/drive/MyDrive/Seminario/bert_base_italian-finetuned/checkpoint-3942\""
      ],
      "metadata": {
        "id": "2dpyYz2kxLOk"
      },
      "execution_count": 15,
      "outputs": []
    },
    {
      "cell_type": "code",
      "source": [
        "name = 'dbmdz/bert-base-italian-cased' # inserire bert-ita\n",
        "model = AutoModelForSequenceClassification.from_pretrained(path) # inserire path modello finale\n",
        "tokenizer = AutoTokenizer.from_pretrained(name)\n",
        "print(model.config.id2label)"
      ],
      "metadata": {
        "id": "sU3-CkeRtJUX",
        "outputId": "6be50f19-d3b7-4122-8f0f-d4cc644d6ae9",
        "colab": {
          "base_uri": "https://localhost:8080/"
        }
      },
      "execution_count": 16,
      "outputs": [
        {
          "output_type": "stream",
          "name": "stdout",
          "text": [
            "{0: 'LABEL_0', 1: 'LABEL_1'}\n"
          ]
        }
      ]
    },
    {
      "cell_type": "code",
      "source": [
        "pipe = pipeline(\"text-classification\", model=model, tokenizer=tokenizer)\n",
        "frase = \"Infatti hai più cazzo di me travione\"\n",
        "pipe(frase)"
      ],
      "metadata": {
        "id": "vM1rXtQoujk0",
        "outputId": "ce3d62b9-8b9c-4170-a985-8c6ac7df45cc",
        "colab": {
          "base_uri": "https://localhost:8080/"
        }
      },
      "execution_count": 27,
      "outputs": [
        {
          "output_type": "execute_result",
          "data": {
            "text/plain": [
              "[{'label': 'LABEL_1', 'score': 0.9388033747673035}]"
            ]
          },
          "metadata": {},
          "execution_count": 27
        }
      ]
    },
    {
      "cell_type": "code",
      "execution_count": 28,
      "metadata": {
        "id": "ak-0JYZ6b3RW",
        "outputId": "71bc9665-1b03-4226-bcb9-23855aa6da8f",
        "colab": {
          "base_uri": "https://localhost:8080/",
          "height": 235,
          "referenced_widgets": [
            "4f04919066d84b1bb800284d43dc8c81",
            "eeecac24e2f04972a835831cda030b35",
            "9fa4498ed5a943d8acb9551bbe15379a",
            "43531d66d57146668e1ff27391b36db2",
            "67eef0ee2a4943029b5d961698a4696a",
            "149bd81fe2e24e8e8221d6aed95372f4",
            "b81cd59a9e484bc097a2373f684fa0c0",
            "5a71b045e5eb4f28ab553952ec8b04e4",
            "4fc2449efe08403584b3f2bfeedd4fd7",
            "d9ed1cb02e4e4bd1859ac4141986bdd4",
            "43787ab24970404293ef312f4bdca8aa"
          ]
        }
      },
      "outputs": [
        {
          "output_type": "display_data",
          "data": {
            "text/plain": [
              "Explainer:   0%|          | 0/6 [00:00<?, ?it/s]"
            ],
            "application/vnd.jupyter.widget-view+json": {
              "version_major": 2,
              "version_minor": 0,
              "model_id": "4f04919066d84b1bb800284d43dc8c81"
            }
          },
          "metadata": {}
        },
        {
          "output_type": "execute_result",
          "data": {
            "text/plain": [
              "<pandas.io.formats.style.Styler at 0x7a6e2e7df970>"
            ],
            "text/html": [
              "<style type=\"text/css\">\n",
              "#T_54dd4_row0_col0, #T_54dd4_row1_col5 {\n",
              "  background-color: #f2efef;\n",
              "  color: #000000;\n",
              "}\n",
              "#T_54dd4_row0_col1 {\n",
              "  background-color: #eff0f2;\n",
              "  color: #000000;\n",
              "}\n",
              "#T_54dd4_row0_col2 {\n",
              "  background-color: #f2f1f1;\n",
              "  color: #000000;\n",
              "}\n",
              "#T_54dd4_row0_col3, #T_54dd4_row5_col6 {\n",
              "  background-color: #eecdcf;\n",
              "  color: #000000;\n",
              "}\n",
              "#T_54dd4_row0_col4, #T_54dd4_row2_col0, #T_54dd4_row2_col5 {\n",
              "  background-color: #f0e1e2;\n",
              "  color: #000000;\n",
              "}\n",
              "#T_54dd4_row0_col5, #T_54dd4_row1_col2 {\n",
              "  background-color: #f2eded;\n",
              "  color: #000000;\n",
              "}\n",
              "#T_54dd4_row0_col6 {\n",
              "  background-color: #e8a4a9;\n",
              "  color: #000000;\n",
              "}\n",
              "#T_54dd4_row0_col7 {\n",
              "  background-color: #edc7ca;\n",
              "  color: #000000;\n",
              "}\n",
              "#T_54dd4_row1_col0, #T_54dd4_row3_col1, #T_54dd4_row4_col0 {\n",
              "  background-color: #f1e5e6;\n",
              "  color: #000000;\n",
              "}\n",
              "#T_54dd4_row1_col1 {\n",
              "  background-color: #f1eaea;\n",
              "  color: #000000;\n",
              "}\n",
              "#T_54dd4_row1_col3 {\n",
              "  background-color: #efdbdd;\n",
              "  color: #000000;\n",
              "}\n",
              "#T_54dd4_row1_col4, #T_54dd4_row3_col4 {\n",
              "  background-color: #f2ebeb;\n",
              "  color: #000000;\n",
              "}\n",
              "#T_54dd4_row1_col6 {\n",
              "  background-color: #e8a2a7;\n",
              "  color: #000000;\n",
              "}\n",
              "#T_54dd4_row1_col7 {\n",
              "  background-color: #ecc2c5;\n",
              "  color: #000000;\n",
              "}\n",
              "#T_54dd4_row2_col1, #T_54dd4_row2_col4, #T_54dd4_row3_col5 {\n",
              "  background-color: #f1e4e5;\n",
              "  color: #000000;\n",
              "}\n",
              "#T_54dd4_row2_col2 {\n",
              "  background-color: #f1e8e9;\n",
              "  color: #000000;\n",
              "}\n",
              "#T_54dd4_row2_col3, #T_54dd4_row5_col4 {\n",
              "  background-color: #f0dedf;\n",
              "  color: #000000;\n",
              "}\n",
              "#T_54dd4_row2_col6, #T_54dd4_row5_col3 {\n",
              "  background-color: #eed3d5;\n",
              "  color: #000000;\n",
              "}\n",
              "#T_54dd4_row2_col7 {\n",
              "  background-color: #f0e0e1;\n",
              "  color: #000000;\n",
              "}\n",
              "#T_54dd4_row3_col0 {\n",
              "  background-color: #efd7d9;\n",
              "  color: #000000;\n",
              "}\n",
              "#T_54dd4_row3_col2 {\n",
              "  background-color: #dae3e9;\n",
              "  color: #000000;\n",
              "}\n",
              "#T_54dd4_row3_col3, #T_54dd4_row5_col1 {\n",
              "  background-color: #f1f1f2;\n",
              "  color: #000000;\n",
              "}\n",
              "#T_54dd4_row3_col6 {\n",
              "  background-color: #c8d7e1;\n",
              "  color: #000000;\n",
              "}\n",
              "#T_54dd4_row3_col7 {\n",
              "  background-color: #efd4d6;\n",
              "  color: #000000;\n",
              "}\n",
              "#T_54dd4_row4_col1 {\n",
              "  background-color: #e7ebee;\n",
              "  color: #000000;\n",
              "}\n",
              "#T_54dd4_row4_col2 {\n",
              "  background-color: #efdadb;\n",
              "  color: #000000;\n",
              "}\n",
              "#T_54dd4_row4_col3 {\n",
              "  background-color: #f1e7e7;\n",
              "  color: #000000;\n",
              "}\n",
              "#T_54dd4_row4_col4 {\n",
              "  background-color: #cbd8e3;\n",
              "  color: #000000;\n",
              "}\n",
              "#T_54dd4_row4_col5 {\n",
              "  background-color: #f0e3e3;\n",
              "  color: #000000;\n",
              "}\n",
              "#T_54dd4_row4_col6 {\n",
              "  background-color: #efd9da;\n",
              "  color: #000000;\n",
              "}\n",
              "#T_54dd4_row4_col7 {\n",
              "  background-color: #e8ecef;\n",
              "  color: #000000;\n",
              "}\n",
              "#T_54dd4_row5_col0 {\n",
              "  background-color: #edeff1;\n",
              "  color: #000000;\n",
              "}\n",
              "#T_54dd4_row5_col2 {\n",
              "  background-color: #eceef1;\n",
              "  color: #000000;\n",
              "}\n",
              "#T_54dd4_row5_col5 {\n",
              "  background-color: #d2dde6;\n",
              "  color: #000000;\n",
              "}\n",
              "#T_54dd4_row5_col7 {\n",
              "  background-color: #ebbbbe;\n",
              "  color: #000000;\n",
              "}\n",
              "</style>\n",
              "<table id=\"T_54dd4\" class=\"dataframe\">\n",
              "  <thead>\n",
              "    <tr>\n",
              "      <th class=\"index_name level0\" >Token</th>\n",
              "      <th id=\"T_54dd4_level0_col0\" class=\"col_heading level0 col0\" >Infatti</th>\n",
              "      <th id=\"T_54dd4_level0_col1\" class=\"col_heading level0 col1\" >hai</th>\n",
              "      <th id=\"T_54dd4_level0_col2\" class=\"col_heading level0 col2\" >più</th>\n",
              "      <th id=\"T_54dd4_level0_col3\" class=\"col_heading level0 col3\" >cazzo</th>\n",
              "      <th id=\"T_54dd4_level0_col4\" class=\"col_heading level0 col4\" >di</th>\n",
              "      <th id=\"T_54dd4_level0_col5\" class=\"col_heading level0 col5\" >me</th>\n",
              "      <th id=\"T_54dd4_level0_col6\" class=\"col_heading level0 col6\" >travi</th>\n",
              "      <th id=\"T_54dd4_level0_col7\" class=\"col_heading level0 col7\" >##one</th>\n",
              "    </tr>\n",
              "  </thead>\n",
              "  <tbody>\n",
              "    <tr>\n",
              "      <th id=\"T_54dd4_level0_row0\" class=\"row_heading level0 row0\" >Partition SHAP</th>\n",
              "      <td id=\"T_54dd4_row0_col0\" class=\"data row0 col0\" >0.01</td>\n",
              "      <td id=\"T_54dd4_row0_col1\" class=\"data row0 col1\" >-0.01</td>\n",
              "      <td id=\"T_54dd4_row0_col2\" class=\"data row0 col2\" >0.01</td>\n",
              "      <td id=\"T_54dd4_row0_col3\" class=\"data row0 col3\" >0.20</td>\n",
              "      <td id=\"T_54dd4_row0_col4\" class=\"data row0 col4\" >0.09</td>\n",
              "      <td id=\"T_54dd4_row0_col5\" class=\"data row0 col5\" >0.03</td>\n",
              "      <td id=\"T_54dd4_row0_col6\" class=\"data row0 col6\" >0.43</td>\n",
              "      <td id=\"T_54dd4_row0_col7\" class=\"data row0 col7\" >0.23</td>\n",
              "    </tr>\n",
              "    <tr>\n",
              "      <th id=\"T_54dd4_level0_row1\" class=\"row_heading level0 row1\" >LIME</th>\n",
              "      <td id=\"T_54dd4_row1_col0\" class=\"data row1 col0\" >0.07</td>\n",
              "      <td id=\"T_54dd4_row1_col1\" class=\"data row1 col1\" >0.04</td>\n",
              "      <td id=\"T_54dd4_row1_col2\" class=\"data row1 col2\" >0.03</td>\n",
              "      <td id=\"T_54dd4_row1_col3\" class=\"data row1 col3\" >0.12</td>\n",
              "      <td id=\"T_54dd4_row1_col4\" class=\"data row1 col4\" >0.03</td>\n",
              "      <td id=\"T_54dd4_row1_col5\" class=\"data row1 col5\" >0.02</td>\n",
              "      <td id=\"T_54dd4_row1_col6\" class=\"data row1 col6\" >0.44</td>\n",
              "      <td id=\"T_54dd4_row1_col7\" class=\"data row1 col7\" >0.26</td>\n",
              "    </tr>\n",
              "    <tr>\n",
              "      <th id=\"T_54dd4_level0_row2\" class=\"row_heading level0 row2\" >Gradient</th>\n",
              "      <td id=\"T_54dd4_row2_col0\" class=\"data row2 col0\" >0.09</td>\n",
              "      <td id=\"T_54dd4_row2_col1\" class=\"data row2 col1\" >0.08</td>\n",
              "      <td id=\"T_54dd4_row2_col2\" class=\"data row2 col2\" >0.05</td>\n",
              "      <td id=\"T_54dd4_row2_col3\" class=\"data row2 col3\" >0.11</td>\n",
              "      <td id=\"T_54dd4_row2_col4\" class=\"data row2 col4\" >0.07</td>\n",
              "      <td id=\"T_54dd4_row2_col5\" class=\"data row2 col5\" >0.09</td>\n",
              "      <td id=\"T_54dd4_row2_col6\" class=\"data row2 col6\" >0.17</td>\n",
              "      <td id=\"T_54dd4_row2_col7\" class=\"data row2 col7\" >0.10</td>\n",
              "    </tr>\n",
              "    <tr>\n",
              "      <th id=\"T_54dd4_level0_row3\" class=\"row_heading level0 row3\" >Gradient (x Input)</th>\n",
              "      <td id=\"T_54dd4_row3_col0\" class=\"data row3 col0\" >0.14</td>\n",
              "      <td id=\"T_54dd4_row3_col1\" class=\"data row3 col1\" >0.07</td>\n",
              "      <td id=\"T_54dd4_row3_col2\" class=\"data row3 col2\" >-0.13</td>\n",
              "      <td id=\"T_54dd4_row3_col3\" class=\"data row3 col3\" >-0.01</td>\n",
              "      <td id=\"T_54dd4_row3_col4\" class=\"data row3 col4\" >0.04</td>\n",
              "      <td id=\"T_54dd4_row3_col5\" class=\"data row3 col5\" >0.07</td>\n",
              "      <td id=\"T_54dd4_row3_col6\" class=\"data row3 col6\" >-0.23</td>\n",
              "      <td id=\"T_54dd4_row3_col7\" class=\"data row3 col7\" >0.16</td>\n",
              "    </tr>\n",
              "    <tr>\n",
              "      <th id=\"T_54dd4_level0_row4\" class=\"row_heading level0 row4\" >Integrated Gradient</th>\n",
              "      <td id=\"T_54dd4_row4_col0\" class=\"data row4 col0\" >0.07</td>\n",
              "      <td id=\"T_54dd4_row4_col1\" class=\"data row4 col1\" >-0.06</td>\n",
              "      <td id=\"T_54dd4_row4_col2\" class=\"data row4 col2\" >0.13</td>\n",
              "      <td id=\"T_54dd4_row4_col3\" class=\"data row4 col3\" >0.06</td>\n",
              "      <td id=\"T_54dd4_row4_col4\" class=\"data row4 col4\" >-0.21</td>\n",
              "      <td id=\"T_54dd4_row4_col5\" class=\"data row4 col5\" >0.08</td>\n",
              "      <td id=\"T_54dd4_row4_col6\" class=\"data row4 col6\" >0.14</td>\n",
              "      <td id=\"T_54dd4_row4_col7\" class=\"data row4 col7\" >-0.05</td>\n",
              "    </tr>\n",
              "    <tr>\n",
              "      <th id=\"T_54dd4_level0_row5\" class=\"row_heading level0 row5\" >Integrated Gradient (x Input)</th>\n",
              "      <td id=\"T_54dd4_row5_col0\" class=\"data row5 col0\" >-0.02</td>\n",
              "      <td id=\"T_54dd4_row5_col1\" class=\"data row5 col1\" >-0.01</td>\n",
              "      <td id=\"T_54dd4_row5_col2\" class=\"data row5 col2\" >-0.03</td>\n",
              "      <td id=\"T_54dd4_row5_col3\" class=\"data row5 col3\" >0.17</td>\n",
              "      <td id=\"T_54dd4_row5_col4\" class=\"data row5 col4\" >0.10</td>\n",
              "      <td id=\"T_54dd4_row5_col5\" class=\"data row5 col5\" >-0.17</td>\n",
              "      <td id=\"T_54dd4_row5_col6\" class=\"data row5 col6\" >0.20</td>\n",
              "      <td id=\"T_54dd4_row5_col7\" class=\"data row5 col7\" >0.30</td>\n",
              "    </tr>\n",
              "  </tbody>\n",
              "</table>\n"
            ]
          },
          "metadata": {},
          "execution_count": 28
        }
      ],
      "source": [
        "from ferret import Benchmark\n",
        "\n",
        "bench = Benchmark(model, tokenizer)\n",
        "all_explanations = bench.explain(frase, target=1)\n",
        "bench.show_table(all_explanations)"
      ]
    }
  ],
  "metadata": {
    "kernelspec": {
      "display_name": "venv",
      "language": "python",
      "name": "python3"
    },
    "language_info": {
      "codemirror_mode": {
        "name": "ipython",
        "version": 3
      },
      "file_extension": ".py",
      "mimetype": "text/x-python",
      "name": "python",
      "nbconvert_exporter": "python",
      "pygments_lexer": "ipython3",
      "version": "3.9.13"
    },
    "orig_nbformat": 4,
    "colab": {
      "provenance": [],
      "include_colab_link": true
    },
    "widgets": {
      "application/vnd.jupyter.widget-state+json": {
        "4f04919066d84b1bb800284d43dc8c81": {
          "model_module": "@jupyter-widgets/controls",
          "model_name": "HBoxModel",
          "model_module_version": "1.5.0",
          "state": {
            "_dom_classes": [],
            "_model_module": "@jupyter-widgets/controls",
            "_model_module_version": "1.5.0",
            "_model_name": "HBoxModel",
            "_view_count": null,
            "_view_module": "@jupyter-widgets/controls",
            "_view_module_version": "1.5.0",
            "_view_name": "HBoxView",
            "box_style": "",
            "children": [
              "IPY_MODEL_eeecac24e2f04972a835831cda030b35",
              "IPY_MODEL_9fa4498ed5a943d8acb9551bbe15379a",
              "IPY_MODEL_43531d66d57146668e1ff27391b36db2"
            ],
            "layout": "IPY_MODEL_67eef0ee2a4943029b5d961698a4696a"
          }
        },
        "eeecac24e2f04972a835831cda030b35": {
          "model_module": "@jupyter-widgets/controls",
          "model_name": "HTMLModel",
          "model_module_version": "1.5.0",
          "state": {
            "_dom_classes": [],
            "_model_module": "@jupyter-widgets/controls",
            "_model_module_version": "1.5.0",
            "_model_name": "HTMLModel",
            "_view_count": null,
            "_view_module": "@jupyter-widgets/controls",
            "_view_module_version": "1.5.0",
            "_view_name": "HTMLView",
            "description": "",
            "description_tooltip": null,
            "layout": "IPY_MODEL_149bd81fe2e24e8e8221d6aed95372f4",
            "placeholder": "​",
            "style": "IPY_MODEL_b81cd59a9e484bc097a2373f684fa0c0",
            "value": "Explainer: 100%"
          }
        },
        "9fa4498ed5a943d8acb9551bbe15379a": {
          "model_module": "@jupyter-widgets/controls",
          "model_name": "FloatProgressModel",
          "model_module_version": "1.5.0",
          "state": {
            "_dom_classes": [],
            "_model_module": "@jupyter-widgets/controls",
            "_model_module_version": "1.5.0",
            "_model_name": "FloatProgressModel",
            "_view_count": null,
            "_view_module": "@jupyter-widgets/controls",
            "_view_module_version": "1.5.0",
            "_view_name": "ProgressView",
            "bar_style": "",
            "description": "",
            "description_tooltip": null,
            "layout": "IPY_MODEL_5a71b045e5eb4f28ab553952ec8b04e4",
            "max": 6,
            "min": 0,
            "orientation": "horizontal",
            "style": "IPY_MODEL_4fc2449efe08403584b3f2bfeedd4fd7",
            "value": 6
          }
        },
        "43531d66d57146668e1ff27391b36db2": {
          "model_module": "@jupyter-widgets/controls",
          "model_name": "HTMLModel",
          "model_module_version": "1.5.0",
          "state": {
            "_dom_classes": [],
            "_model_module": "@jupyter-widgets/controls",
            "_model_module_version": "1.5.0",
            "_model_name": "HTMLModel",
            "_view_count": null,
            "_view_module": "@jupyter-widgets/controls",
            "_view_module_version": "1.5.0",
            "_view_name": "HTMLView",
            "description": "",
            "description_tooltip": null,
            "layout": "IPY_MODEL_d9ed1cb02e4e4bd1859ac4141986bdd4",
            "placeholder": "​",
            "style": "IPY_MODEL_43787ab24970404293ef312f4bdca8aa",
            "value": " 6/6 [00:24&lt;00:00,  4.06s/it]"
          }
        },
        "67eef0ee2a4943029b5d961698a4696a": {
          "model_module": "@jupyter-widgets/base",
          "model_name": "LayoutModel",
          "model_module_version": "1.2.0",
          "state": {
            "_model_module": "@jupyter-widgets/base",
            "_model_module_version": "1.2.0",
            "_model_name": "LayoutModel",
            "_view_count": null,
            "_view_module": "@jupyter-widgets/base",
            "_view_module_version": "1.2.0",
            "_view_name": "LayoutView",
            "align_content": null,
            "align_items": null,
            "align_self": null,
            "border": null,
            "bottom": null,
            "display": null,
            "flex": null,
            "flex_flow": null,
            "grid_area": null,
            "grid_auto_columns": null,
            "grid_auto_flow": null,
            "grid_auto_rows": null,
            "grid_column": null,
            "grid_gap": null,
            "grid_row": null,
            "grid_template_areas": null,
            "grid_template_columns": null,
            "grid_template_rows": null,
            "height": null,
            "justify_content": null,
            "justify_items": null,
            "left": null,
            "margin": null,
            "max_height": null,
            "max_width": null,
            "min_height": null,
            "min_width": null,
            "object_fit": null,
            "object_position": null,
            "order": null,
            "overflow": null,
            "overflow_x": null,
            "overflow_y": null,
            "padding": null,
            "right": null,
            "top": null,
            "visibility": "hidden",
            "width": null
          }
        },
        "149bd81fe2e24e8e8221d6aed95372f4": {
          "model_module": "@jupyter-widgets/base",
          "model_name": "LayoutModel",
          "model_module_version": "1.2.0",
          "state": {
            "_model_module": "@jupyter-widgets/base",
            "_model_module_version": "1.2.0",
            "_model_name": "LayoutModel",
            "_view_count": null,
            "_view_module": "@jupyter-widgets/base",
            "_view_module_version": "1.2.0",
            "_view_name": "LayoutView",
            "align_content": null,
            "align_items": null,
            "align_self": null,
            "border": null,
            "bottom": null,
            "display": null,
            "flex": null,
            "flex_flow": null,
            "grid_area": null,
            "grid_auto_columns": null,
            "grid_auto_flow": null,
            "grid_auto_rows": null,
            "grid_column": null,
            "grid_gap": null,
            "grid_row": null,
            "grid_template_areas": null,
            "grid_template_columns": null,
            "grid_template_rows": null,
            "height": null,
            "justify_content": null,
            "justify_items": null,
            "left": null,
            "margin": null,
            "max_height": null,
            "max_width": null,
            "min_height": null,
            "min_width": null,
            "object_fit": null,
            "object_position": null,
            "order": null,
            "overflow": null,
            "overflow_x": null,
            "overflow_y": null,
            "padding": null,
            "right": null,
            "top": null,
            "visibility": null,
            "width": null
          }
        },
        "b81cd59a9e484bc097a2373f684fa0c0": {
          "model_module": "@jupyter-widgets/controls",
          "model_name": "DescriptionStyleModel",
          "model_module_version": "1.5.0",
          "state": {
            "_model_module": "@jupyter-widgets/controls",
            "_model_module_version": "1.5.0",
            "_model_name": "DescriptionStyleModel",
            "_view_count": null,
            "_view_module": "@jupyter-widgets/base",
            "_view_module_version": "1.2.0",
            "_view_name": "StyleView",
            "description_width": ""
          }
        },
        "5a71b045e5eb4f28ab553952ec8b04e4": {
          "model_module": "@jupyter-widgets/base",
          "model_name": "LayoutModel",
          "model_module_version": "1.2.0",
          "state": {
            "_model_module": "@jupyter-widgets/base",
            "_model_module_version": "1.2.0",
            "_model_name": "LayoutModel",
            "_view_count": null,
            "_view_module": "@jupyter-widgets/base",
            "_view_module_version": "1.2.0",
            "_view_name": "LayoutView",
            "align_content": null,
            "align_items": null,
            "align_self": null,
            "border": null,
            "bottom": null,
            "display": null,
            "flex": null,
            "flex_flow": null,
            "grid_area": null,
            "grid_auto_columns": null,
            "grid_auto_flow": null,
            "grid_auto_rows": null,
            "grid_column": null,
            "grid_gap": null,
            "grid_row": null,
            "grid_template_areas": null,
            "grid_template_columns": null,
            "grid_template_rows": null,
            "height": null,
            "justify_content": null,
            "justify_items": null,
            "left": null,
            "margin": null,
            "max_height": null,
            "max_width": null,
            "min_height": null,
            "min_width": null,
            "object_fit": null,
            "object_position": null,
            "order": null,
            "overflow": null,
            "overflow_x": null,
            "overflow_y": null,
            "padding": null,
            "right": null,
            "top": null,
            "visibility": null,
            "width": null
          }
        },
        "4fc2449efe08403584b3f2bfeedd4fd7": {
          "model_module": "@jupyter-widgets/controls",
          "model_name": "ProgressStyleModel",
          "model_module_version": "1.5.0",
          "state": {
            "_model_module": "@jupyter-widgets/controls",
            "_model_module_version": "1.5.0",
            "_model_name": "ProgressStyleModel",
            "_view_count": null,
            "_view_module": "@jupyter-widgets/base",
            "_view_module_version": "1.2.0",
            "_view_name": "StyleView",
            "bar_color": null,
            "description_width": ""
          }
        },
        "d9ed1cb02e4e4bd1859ac4141986bdd4": {
          "model_module": "@jupyter-widgets/base",
          "model_name": "LayoutModel",
          "model_module_version": "1.2.0",
          "state": {
            "_model_module": "@jupyter-widgets/base",
            "_model_module_version": "1.2.0",
            "_model_name": "LayoutModel",
            "_view_count": null,
            "_view_module": "@jupyter-widgets/base",
            "_view_module_version": "1.2.0",
            "_view_name": "LayoutView",
            "align_content": null,
            "align_items": null,
            "align_self": null,
            "border": null,
            "bottom": null,
            "display": null,
            "flex": null,
            "flex_flow": null,
            "grid_area": null,
            "grid_auto_columns": null,
            "grid_auto_flow": null,
            "grid_auto_rows": null,
            "grid_column": null,
            "grid_gap": null,
            "grid_row": null,
            "grid_template_areas": null,
            "grid_template_columns": null,
            "grid_template_rows": null,
            "height": null,
            "justify_content": null,
            "justify_items": null,
            "left": null,
            "margin": null,
            "max_height": null,
            "max_width": null,
            "min_height": null,
            "min_width": null,
            "object_fit": null,
            "object_position": null,
            "order": null,
            "overflow": null,
            "overflow_x": null,
            "overflow_y": null,
            "padding": null,
            "right": null,
            "top": null,
            "visibility": null,
            "width": null
          }
        },
        "43787ab24970404293ef312f4bdca8aa": {
          "model_module": "@jupyter-widgets/controls",
          "model_name": "DescriptionStyleModel",
          "model_module_version": "1.5.0",
          "state": {
            "_model_module": "@jupyter-widgets/controls",
            "_model_module_version": "1.5.0",
            "_model_name": "DescriptionStyleModel",
            "_view_count": null,
            "_view_module": "@jupyter-widgets/base",
            "_view_module_version": "1.2.0",
            "_view_name": "StyleView",
            "description_width": ""
          }
        }
      }
    }
  },
  "nbformat": 4,
  "nbformat_minor": 0
}